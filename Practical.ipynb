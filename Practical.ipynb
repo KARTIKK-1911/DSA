from collections import deque

class Node:
    def __init__(self, state, parent=None):
        self.state = state
        self.parent = parent

def bfs(initial_state, goal_state):
    initial_node = Node(initial_state)
    frontier = deque([initial_node])
    explored = set()

    while frontier:
        current_node = frontier.popleft()
        current_state = current_node.state

        if current_state == goal_state:
            return reconstruct_path(current_node)

        explored.add(current_state)

        for neighbor_state in get_neighbors(current_state):
            if neighbor_state not in explored and not any(node.state == neighbor_state for node in frontier):
                neighbor_node = Node(neighbor_state, parent=current_node)
                frontier.append(neighbor_node)

    return None  

def get_neighbors(state):
 
    return [state + 1, state - 1]

def reconstruct_path(node):
    path = []
    while node:
        path.insert(0, node.state)
        node = node.parent
    return path

if __name__ == "__main__":
    initial_state = 1
    goal_state = 9

    result = bfs(initial_state, goal_state)

    if result:
        print(f"Path from {initial_state} to {goal_state}: {result}")
    else:
        print(f"Goal state {goal_state} is not reachable from {initial_state}.")
